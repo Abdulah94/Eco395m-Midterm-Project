{
 "cells": [
  {
   "cell_type": "code",
   "execution_count": 1,
   "id": "4e7008b3-06ad-4839-be8e-543b2dbbc8bf",
   "metadata": {},
   "outputs": [],
   "source": [
    "# Importing libraries \n",
    "import pandas as pd\n",
    "import os\n",
    "from  statsmodels.graphics.tsaplots import plot_acf, plot_pacf\n",
    "import statsmodels.api as sm\n",
    "from statsmodels.tsa.stattools import adfuller\n"
   ]
  },
  {
   "cell_type": "code",
   "execution_count": null,
   "id": "cf416144-dbdf-47b4-8cfa-4cbe5d7b6fd1",
   "metadata": {},
   "outputs": [],
   "source": []
  },
  {
   "cell_type": "code",
   "execution_count": 2,
   "id": "e7ebefd3-858d-40d2-a47d-263241eb0c4f",
   "metadata": {
    "tags": []
   },
   "outputs": [],
   "source": [
    "# Setting the relative path\n"
   ]
  },
  {
   "cell_type": "code",
   "execution_count": null,
   "id": "a52a8f0e-7d50-4997-a411-1375d6fd6439",
   "metadata": {},
   "outputs": [],
   "source": []
  },
  {
   "cell_type": "code",
   "execution_count": 3,
   "id": "ba515519-7caf-4729-8bcc-6f7310801297",
   "metadata": {},
   "outputs": [],
   "source": [
    "# Importing data\n"
   ]
  },
  {
   "cell_type": "code",
   "execution_count": null,
   "id": "50a8e0bf-45d6-42d4-be03-4fe886cbcaef",
   "metadata": {},
   "outputs": [],
   "source": []
  },
  {
   "cell_type": "code",
   "execution_count": 4,
   "id": "3cc1ce8c-bcb3-45d2-b0f0-d9548cfa66fe",
   "metadata": {},
   "outputs": [],
   "source": [
    "# Data cleaning & merging\n",
    "oil_price = pd.read_csv('../data/DCOILBRENTEU.csv').rename(columns = {'DATE':'Date'}).assign(Date= lambda oil_price: pd.to_datetime(oil_price['Date']))\n",
    "\n",
    "sp500 =  pd.read_csv('../data/SP500.csv').rename(columns = {'DATE':'Date'}).assign(Date= lambda oil_price: pd.to_datetime(oil_price['Date']))\n",
    "def extract_stock_price(stock):\n",
    "    '''This functions takes stock price from dataset and import a cleaned dataframe '''\n",
    "    file_path = os.path.join(\"data\", stock+'.csv')\n",
    "    file_folder = pd.read_csv(file_path).assign(Date = lambda stock: pd.to_datetime(stock['Date']))\n",
    "    return file_folder\n",
    "tsla = extract_stock_price('TSLA')\n",
    "nvda = extract_stock_price('NVDA')\n",
    "\n",
    "def merge_dataset(data1, data2):\n",
    "    # merge two dataset based on Date\n",
    "    new_data_frame = pd.merge(data1, data2, on = ['Date'])\n",
    "    return new_data_frame\n",
    "\n",
    "\n",
    "oil_sp = merge_dataset(oil_price, sp500)\n",
    "oil_sp\n",
    "\n"
   ]
  },
  {
   "cell_type": "code",
   "execution_count": 5,
   "id": "a81f8610-1595-409a-b036-87315256f2e2",
   "metadata": {},
   "outputs": [],
   "source": [
    "# Data Analysis\n",
    "\n",
    "## In this part you can include your codes to analyse the data,we'll start with (MA, VAT, Trend analysis, ...etc).\n",
    "## You may also add the visualisation codes to your analysis."
   ]
  },
  {
   "cell_type": "code",
   "execution_count": null,
   "id": "11ae9716-f86a-4dc6-8e0f-2d9ea1b379f1",
   "metadata": {},
   "outputs": [],
   "source": []
  }
 ],
 "metadata": {
  "environment": {
   "kernel": "python3",
   "name": "common-cpu.m90",
   "type": "gcloud",
   "uri": "gcr.io/deeplearning-platform-release/base-cpu:m90"
  },
  "kernelspec": {
   "display_name": "Python 3",
   "language": "python",
   "name": "python3"
  },
  "language_info": {
   "codemirror_mode": {
    "name": "ipython",
    "version": 3
   },
   "file_extension": ".py",
   "mimetype": "text/x-python",
   "name": "python",
   "nbconvert_exporter": "python",
   "pygments_lexer": "ipython3",
   "version": "3.7.12"
  }
 },
 "nbformat": 4,
 "nbformat_minor": 5
}
